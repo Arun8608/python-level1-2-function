{
 "cells": [
  {
   "cell_type": "code",
   "execution_count": 11,
   "metadata": {},
   "outputs": [],
   "source": [
    "list=[\"machine learning\",\"neural network\",\"vision\",\"robotics\",\"speech processing\",\"natural language processing\"]\n",
    "def subfields():\n",
    "    sub=input(\"Sub-fields in AI are:\")\n",
    "    for i in list:\n",
    "        print(i)"
   ]
  },
  {
   "cell_type": "code",
   "execution_count": 13,
   "metadata": {},
   "outputs": [
    {
     "name": "stdout",
     "output_type": "stream",
     "text": [
      "Sub-fields in AI are: \n",
      "machine learning\n",
      "neural network\n",
      "vision\n",
      "robotics\n",
      "speech processing\n",
      "natural language processing\n"
     ]
    }
   ],
   "source": [
    "subfields()"
   ]
  },
  {
   "cell_type": "code",
   "execution_count": 4,
   "metadata": {},
   "outputs": [],
   "source": [
    "def OddEven():\n",
    "    num=int(input(\"Enter a Number:\"))\n",
    "    if((num%2)==1):\n",
    "        print(\"Odd Number\")\n",
    "        message=\"Odd Number\"\n",
    "    else:\n",
    "        print(\"Even Number\")\n",
    "        message=\"Even Number\"\n",
    "    return message"
   ]
  },
  {
   "cell_type": "code",
   "execution_count": 5,
   "metadata": {},
   "outputs": [
    {
     "name": "stdout",
     "output_type": "stream",
     "text": [
      "Enter a Number:4\n",
      "Even Number\n"
     ]
    },
    {
     "data": {
      "text/plain": [
       "'Even Number'"
      ]
     },
     "execution_count": 5,
     "metadata": {},
     "output_type": "execute_result"
    }
   ],
   "source": [
    "OddEven()"
   ]
  },
  {
   "cell_type": "code",
   "execution_count": 21,
   "metadata": {},
   "outputs": [],
   "source": [
    "def Eligible():\n",
    "    gender=input(\"Your Genter:\")\n",
    "    age=int(input(\"Your age:\"))\n",
    "    if(age<18):\n",
    "        print(\"Eligible\")\n",
    "    else:\n",
    "        print(\"Not Eligible\")"
   ]
  },
  {
   "cell_type": "code",
   "execution_count": 22,
   "metadata": {},
   "outputs": [
    {
     "name": "stdout",
     "output_type": "stream",
     "text": [
      "Your Genter:male\n",
      "Your age:18\n",
      "Not Eligible\n"
     ]
    }
   ],
   "source": [
    "Eligible()"
   ]
  },
  {
   "cell_type": "code",
   "execution_count": 1,
   "metadata": {},
   "outputs": [],
   "source": [
    "def percentage():\n",
    "    sub1=int(input(\"subject1=\"))\n",
    "    sub2=int(input(\"subject2=\"))\n",
    "    sub3=int(input(\"subject3=\"))\n",
    "    sub4=int(input(\"subject4=\"))\n",
    "    sub5=int(input(\"subject5=\"))\n",
    "    print()\n",
    "    total=sub1+sub2+sub3+sub4+sub5\n",
    "    print(\"total score:\",total)\n",
    "    percentage=(total/500)*100\n",
    "    print(\"percentage=\",percentage,\"%\")"
   ]
  },
  {
   "cell_type": "code",
   "execution_count": 2,
   "metadata": {},
   "outputs": [
    {
     "name": "stdout",
     "output_type": "stream",
     "text": [
      "subject1=23\n",
      "subject2=45\n",
      "subject3=34\n",
      "subject4=23\n",
      "subject5=23\n",
      "\n",
      "total score: 148\n",
      "percentage= 29.599999999999998 %\n"
     ]
    }
   ],
   "source": [
    "percentage()"
   ]
  },
  {
   "cell_type": "code",
   "execution_count": 13,
   "metadata": {},
   "outputs": [
    {
     "name": "stdout",
     "output_type": "stream",
     "text": [
      "calculated area of triangle: 6.0\n",
      "given area of triangle: 6.0\n",
      "calculated perimeter of triangle: 52\n",
      "given perimeter of triangle: 52\n"
     ]
    }
   ],
   "source": [
    "def calculate_area(height,breath):\n",
    "    area=(height*breath)/2\n",
    "    return area\n",
    "def calculate_perimeter(height1,height2,breadth):\n",
    "    perimeter=height1+height2+breadth\n",
    "    return perimeter\n",
    "height=3\n",
    "breadth=4\n",
    "area_of_triangle=6.0\n",
    "height1=3\n",
    "height2=4\n",
    "breadth_perimeter=45\n",
    "perimeter_of_triangle=52\n",
    "calculated_area=calculate_area(height,breadth)\n",
    "calculated_perimeter=calculate_perimeter(height1,height2,breadth_perimeter)\n",
    "print(\"calculated area of triangle:\",calculated_area)\n",
    "print(\"given area of triangle:\",area_of_triangle)\n",
    "\n",
    "print(\"calculated perimeter of triangle:\",calculated_perimeter)\n",
    "print(\"given perimeter of triangle:\",perimeter_of_triangle)"
   ]
  },
  {
   "cell_type": "code",
   "execution_count": null,
   "metadata": {},
   "outputs": [],
   "source": []
  }
 ],
 "metadata": {
  "kernelspec": {
   "display_name": "Python 3",
   "language": "python",
   "name": "python3"
  },
  "language_info": {
   "codemirror_mode": {
    "name": "ipython",
    "version": 3
   },
   "file_extension": ".py",
   "mimetype": "text/x-python",
   "name": "python",
   "nbconvert_exporter": "python",
   "pygments_lexer": "ipython3",
   "version": "3.7.4"
  }
 },
 "nbformat": 4,
 "nbformat_minor": 2
}
